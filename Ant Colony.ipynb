{
 "cells": [
  {
   "cell_type": "code",
   "execution_count": 2,
   "id": "1e00faf7",
   "metadata": {},
   "outputs": [],
   "source": [
    "import pandas as pd\n",
    "import numpy as np\n",
    "import random"
   ]
  },
  {
   "cell_type": "code",
   "execution_count": 3,
   "id": "189e692d",
   "metadata": {},
   "outputs": [],
   "source": [
    "data = pd.read_csv(\"C:/Users/anies/Downloads/Bank_Personal_Loan_Modelling.csv\")\n"
   ]
  },
  {
   "cell_type": "code",
   "execution_count": 4,
   "id": "16d259a6",
   "metadata": {},
   "outputs": [],
   "source": [
    "from sklearn.preprocessing import MinMaxScaler\n",
    " \n",
    "mx = MinMaxScaler()\n",
    "cols = ['Age', 'Experience', 'Income', 'Family', 'CCAvg', 'Education']\n",
    "data[cols] = mx.fit_transform(data[cols])"
   ]
  },
  {
   "cell_type": "code",
   "execution_count": 5,
   "id": "8f9c101e",
   "metadata": {},
   "outputs": [],
   "source": [
    "\n",
    "data.drop([\"ID\",\"Mortgage\",\"Personal Loan\", \"Securities Account\",\"CD Account\",\"Online\",\"ZIP Code\"],axis=1,inplace=True)"
   ]
  },
  {
   "cell_type": "code",
   "execution_count": 6,
   "id": "828c5a78",
   "metadata": {},
   "outputs": [],
   "source": [
    "x,y = data.iloc[:,:-1],data.iloc[:,-1]"
   ]
  },
  {
   "cell_type": "code",
   "execution_count": 7,
   "id": "717609da",
   "metadata": {},
   "outputs": [],
   "source": [
    "from sklearn.model_selection import train_test_split\n",
    "\n",
    "xtr,xt,ytr,yt = train_test_split(x,y,test_size = 0.3)"
   ]
  },
  {
   "cell_type": "code",
   "execution_count": 8,
   "id": "a4a64e99",
   "metadata": {},
   "outputs": [],
   "source": [
    "def mod_relu(x):\n",
    "    if x >1:\n",
    "        return 1\n",
    "    elif x < 0:\n",
    "        return 0\n",
    "    return x"
   ]
  },
  {
   "cell_type": "code",
   "execution_count": 9,
   "id": "307d2eef",
   "metadata": {},
   "outputs": [],
   "source": [
    "class Node:\n",
    "    def __init__(self, n_inputs, n_outputs):\n",
    "        self.weights = [1 for i in range(n_outputs)]"
   ]
  },
  {
   "cell_type": "code",
   "execution_count": 16,
   "id": "b1bfdfc6",
   "metadata": {},
   "outputs": [],
   "source": [
    "def choose_path(weight_list):\n",
    "    s = sum(weight_list)\n",
    "    m = random.random()\n",
    "    e = 0\n",
    "    for i in range(len(weight_list)):\n",
    "        e += weight_list[i]\n",
    "        if m < e/s:\n",
    "            return i\n",
    "def ant_path(startint, goalint, network, network_length):\n",
    "    g = []\n",
    "    g.append(startint)\n",
    "    for i in range(network_length-2):\n",
    "        p = choose_path(network[i][g[-1]].weights)\n",
    "        g.append(p)\n",
    "    g.append(goalint)\n",
    "    return g\n",
    "def explore(ant_paths,input_val, pre_net_weight, network,network_length, expected_val):\n",
    "    e = []\n",
    "    o = []\n",
    "    x = len(ant_paths)//2\n",
    "    for i in range(0,2*x,2):\n",
    "        a,b = ant_paths[i],ant_paths[i+1]\n",
    "        n = input_val[i//2]\n",
    "        n = mod_relu(n*pre_net_weight[i//2])\n",
    "        m = n\n",
    "        for j in range(len(a)-1):\n",
    "            m = mod_relu(m*network[j][a[j]].weights[a[j+1]])\n",
    "            n = mod_relu(n*network[j][b[j]].weights[b[j+1]])\n",
    "        e.append(expected_val[0]-m)\n",
    "        e.append(expected_val[1]-n)\n",
    "    return e       \n",
    "def path_generator(input_layer,network,network_length):\n",
    "    ant_paths = []\n",
    "    for i in range(input_layer):\n",
    "        ant_paths.append(ant_path(i,0,network,network_length))\n",
    "    return ant_paths"
   ]
  },
  {
   "cell_type": "code",
   "execution_count": 15,
   "id": "4743e56d",
   "metadata": {},
   "outputs": [
    {
     "ename": "NameError",
     "evalue": "name 'ant_paths' is not defined",
     "output_type": "error",
     "traceback": [
      "\u001b[1;31m---------------------------------------------------------------------------\u001b[0m",
      "\u001b[1;31mNameError\u001b[0m                                 Traceback (most recent call last)",
      "\u001b[1;32m~\\AppData\\Local\\Temp/ipykernel_35300/1459400724.py\u001b[0m in \u001b[0;36m<module>\u001b[1;34m\u001b[0m\n\u001b[1;32m----> 1\u001b[1;33m \u001b[0me\u001b[0m \u001b[1;33m=\u001b[0m \u001b[0mexplore\u001b[0m\u001b[1;33m(\u001b[0m\u001b[0mant_paths\u001b[0m\u001b[1;33m,\u001b[0m\u001b[1;33m[\u001b[0m\u001b[1;36m0.8\u001b[0m\u001b[1;33m,\u001b[0m\u001b[1;36m0.363\u001b[0m\u001b[1;33m,\u001b[0m\u001b[1;36m0.9\u001b[0m\u001b[1;33m,\u001b[0m\u001b[1;36m0.76\u001b[0m\u001b[1;33m,\u001b[0m\u001b[1;36m0.19\u001b[0m\u001b[1;33m,\u001b[0m\u001b[1;36m0.56\u001b[0m\u001b[1;33m,\u001b[0m\u001b[1;36m0.49\u001b[0m\u001b[1;33m]\u001b[0m\u001b[1;33m,\u001b[0m\u001b[0mpre_net_weight\u001b[0m\u001b[1;33m,\u001b[0m\u001b[0mnetwork\u001b[0m\u001b[1;33m,\u001b[0m\u001b[1;36m5\u001b[0m\u001b[1;33m,\u001b[0m\u001b[1;33m[\u001b[0m\u001b[1;36m1\u001b[0m\u001b[1;33m,\u001b[0m\u001b[1;36m0\u001b[0m\u001b[1;33m]\u001b[0m\u001b[1;33m)\u001b[0m\u001b[1;33m\u001b[0m\u001b[1;33m\u001b[0m\u001b[0m\n\u001b[0m",
      "\u001b[1;31mNameError\u001b[0m: name 'ant_paths' is not defined"
     ]
    }
   ],
   "source": [
    "\n",
    "e = explore(ant_paths,[0.8,0.363,0.9,0.76,0.19,0.56,0.49],pre_net_weight,network,5,[1,0])"
   ]
  },
  {
   "cell_type": "code",
   "execution_count": null,
   "id": "3c09c556",
   "metadata": {},
   "outputs": [],
   "source": [
    "def copynode(index,node,ant_paths):\n",
    "    s = 0\n",
    "    for i in ant_paths:\n",
    "        if i[index] == node:\n",
    "            s +=1\n",
    "    return s\n",
    "def backtrack(network,network_length,error,ant_paths, r = 1):\n",
    "    s = len(ant_paths[0])\n",
    "    for i in range(s):\n",
    "        n = []\n",
    "        m = []\n",
    "        for j in range(len(ant_paths)):\n",
    "            l = copynode(i,ant_paths[j][i],ant_paths)\n",
    "            print(i,j,ant_paths[j][i])\n",
    "            m.append(network[i][j//2].weights[ant_paths[j][i]])\n",
    "            if l > 1 and ant_paths[j][i] in n:\n",
    "                network[i][j//2].weights[ant_paths[j][i]] += error[j]/(l*3)\n",
    "            else:\n",
    "                network[i][j//2].weights[ant_paths[j][i]] =2*(network[i][j//2].weights[ant_paths[j][i]])/3 + error[j]/(l*3)\n",
    "                if l > 1:\n",
    "                    n.append(ant_paths[j][i])\n",
    "        for k in range(len(error)):\n",
    "            error[k] *= r*m[k]\n",
    "    return network"
   ]
  },
  {
   "cell_type": "code",
   "execution_count": 12,
   "id": "94d080a4",
   "metadata": {},
   "outputs": [],
   "source": [
    "xtr = xtr.values\n",
    "xt = xt.values\n",
    "ytr = ytr.values\n",
    "yt = yt.values"
   ]
  },
  {
   "cell_type": "code",
   "execution_count": 13,
   "id": "295a9c21",
   "metadata": {},
   "outputs": [
    {
     "ename": "IndexError",
     "evalue": "invalid index to scalar variable.",
     "output_type": "error",
     "traceback": [
      "\u001b[1;31m---------------------------------------------------------------------------\u001b[0m",
      "\u001b[1;31mIndexError\u001b[0m                                Traceback (most recent call last)",
      "\u001b[1;32m~\\AppData\\Local\\Temp/ipykernel_35300/1292138872.py\u001b[0m in \u001b[0;36m<module>\u001b[1;34m\u001b[0m\n\u001b[0;32m      9\u001b[0m     \u001b[1;32mfor\u001b[0m \u001b[0mi\u001b[0m \u001b[1;32min\u001b[0m \u001b[0mrange\u001b[0m\u001b[1;33m(\u001b[0m\u001b[0mlen\u001b[0m\u001b[1;33m(\u001b[0m\u001b[0mxtr\u001b[0m\u001b[1;33m)\u001b[0m\u001b[1;33m)\u001b[0m\u001b[1;33m:\u001b[0m\u001b[1;33m\u001b[0m\u001b[1;33m\u001b[0m\u001b[0m\n\u001b[0;32m     10\u001b[0m         \u001b[0mpaths\u001b[0m \u001b[1;33m=\u001b[0m \u001b[0mpath_generator\u001b[0m\u001b[1;33m(\u001b[0m\u001b[1;36m5\u001b[0m\u001b[1;33m,\u001b[0m\u001b[0mnetwork\u001b[0m\u001b[1;33m,\u001b[0m\u001b[1;36m5\u001b[0m\u001b[1;33m)\u001b[0m\u001b[1;33m\u001b[0m\u001b[1;33m\u001b[0m\u001b[0m\n\u001b[1;32m---> 11\u001b[1;33m         \u001b[0me\u001b[0m \u001b[1;33m=\u001b[0m \u001b[0mexplore\u001b[0m\u001b[1;33m(\u001b[0m\u001b[0mpaths\u001b[0m\u001b[1;33m,\u001b[0m\u001b[0mxtr\u001b[0m\u001b[1;33m[\u001b[0m\u001b[0mi\u001b[0m\u001b[1;33m]\u001b[0m\u001b[1;33m,\u001b[0m\u001b[0mpre_net_weight\u001b[0m\u001b[1;33m,\u001b[0m\u001b[0mnetwork\u001b[0m\u001b[1;33m,\u001b[0m\u001b[1;36m5\u001b[0m\u001b[1;33m,\u001b[0m\u001b[0mytr\u001b[0m\u001b[1;33m[\u001b[0m\u001b[0mi\u001b[0m\u001b[1;33m]\u001b[0m\u001b[1;33m)\u001b[0m\u001b[1;33m\u001b[0m\u001b[1;33m\u001b[0m\u001b[0m\n\u001b[0m\u001b[0;32m     12\u001b[0m         \u001b[0mbacktrack\u001b[0m\u001b[1;33m(\u001b[0m\u001b[0mnetwork\u001b[0m\u001b[1;33m,\u001b[0m\u001b[1;36m5\u001b[0m\u001b[1;33m,\u001b[0m\u001b[0me\u001b[0m\u001b[1;33m,\u001b[0m\u001b[0mpaths\u001b[0m\u001b[1;33m,\u001b[0m \u001b[0mr\u001b[0m \u001b[1;33m=\u001b[0m \u001b[1;36m1\u001b[0m\u001b[1;33m)\u001b[0m\u001b[1;33m\u001b[0m\u001b[1;33m\u001b[0m\u001b[0m\n",
      "\u001b[1;32m~\\AppData\\Local\\Temp/ipykernel_35300/177294245.py\u001b[0m in \u001b[0;36mexplore\u001b[1;34m(ant_paths, input_val, pre_net_weight, network, network_length, expected_val)\u001b[0m\n\u001b[0;32m     27\u001b[0m             \u001b[0mm\u001b[0m \u001b[1;33m=\u001b[0m \u001b[0mmod_relu\u001b[0m\u001b[1;33m(\u001b[0m\u001b[0mm\u001b[0m\u001b[1;33m*\u001b[0m\u001b[0mnetwork\u001b[0m\u001b[1;33m[\u001b[0m\u001b[0mj\u001b[0m\u001b[1;33m]\u001b[0m\u001b[1;33m[\u001b[0m\u001b[0ma\u001b[0m\u001b[1;33m[\u001b[0m\u001b[0mj\u001b[0m\u001b[1;33m]\u001b[0m\u001b[1;33m]\u001b[0m\u001b[1;33m.\u001b[0m\u001b[0mweights\u001b[0m\u001b[1;33m[\u001b[0m\u001b[0ma\u001b[0m\u001b[1;33m[\u001b[0m\u001b[0mj\u001b[0m\u001b[1;33m+\u001b[0m\u001b[1;36m1\u001b[0m\u001b[1;33m]\u001b[0m\u001b[1;33m]\u001b[0m\u001b[1;33m)\u001b[0m\u001b[1;33m\u001b[0m\u001b[1;33m\u001b[0m\u001b[0m\n\u001b[0;32m     28\u001b[0m             \u001b[0mn\u001b[0m \u001b[1;33m=\u001b[0m \u001b[0mmod_relu\u001b[0m\u001b[1;33m(\u001b[0m\u001b[0mn\u001b[0m\u001b[1;33m*\u001b[0m\u001b[0mnetwork\u001b[0m\u001b[1;33m[\u001b[0m\u001b[0mj\u001b[0m\u001b[1;33m]\u001b[0m\u001b[1;33m[\u001b[0m\u001b[0mb\u001b[0m\u001b[1;33m[\u001b[0m\u001b[0mj\u001b[0m\u001b[1;33m]\u001b[0m\u001b[1;33m]\u001b[0m\u001b[1;33m.\u001b[0m\u001b[0mweights\u001b[0m\u001b[1;33m[\u001b[0m\u001b[0mb\u001b[0m\u001b[1;33m[\u001b[0m\u001b[0mj\u001b[0m\u001b[1;33m+\u001b[0m\u001b[1;36m1\u001b[0m\u001b[1;33m]\u001b[0m\u001b[1;33m]\u001b[0m\u001b[1;33m)\u001b[0m\u001b[1;33m\u001b[0m\u001b[1;33m\u001b[0m\u001b[0m\n\u001b[1;32m---> 29\u001b[1;33m         \u001b[0me\u001b[0m\u001b[1;33m.\u001b[0m\u001b[0mappend\u001b[0m\u001b[1;33m(\u001b[0m\u001b[0mexpected_val\u001b[0m\u001b[1;33m[\u001b[0m\u001b[1;36m0\u001b[0m\u001b[1;33m]\u001b[0m\u001b[1;33m-\u001b[0m\u001b[0mm\u001b[0m\u001b[1;33m)\u001b[0m\u001b[1;33m\u001b[0m\u001b[1;33m\u001b[0m\u001b[0m\n\u001b[0m\u001b[0;32m     30\u001b[0m         \u001b[0me\u001b[0m\u001b[1;33m.\u001b[0m\u001b[0mappend\u001b[0m\u001b[1;33m(\u001b[0m\u001b[0mexpected_val\u001b[0m\u001b[1;33m[\u001b[0m\u001b[1;36m1\u001b[0m\u001b[1;33m]\u001b[0m\u001b[1;33m-\u001b[0m\u001b[0mn\u001b[0m\u001b[1;33m)\u001b[0m\u001b[1;33m\u001b[0m\u001b[1;33m\u001b[0m\u001b[0m\n\u001b[0;32m     31\u001b[0m     \u001b[1;32mreturn\u001b[0m \u001b[0me\u001b[0m\u001b[1;33m\u001b[0m\u001b[1;33m\u001b[0m\u001b[0m\n",
      "\u001b[1;31mIndexError\u001b[0m: invalid index to scalar variable."
     ]
    }
   ],
   "source": [
    "epoch = 11\n",
    "pre_net_weight = [1 for i in range(5)]\n",
    "network = [[Node(5,8) for i in range(7)],\n",
    "          [Node(7,4) for i in range(8)],\n",
    "          [Node(8,5) for i in range(4)],\n",
    "          [Node(4,1) for i in range(5)],\n",
    "          [Node(5,0) for i in range(1)]]\n",
    "for i in range(epoch):\n",
    "    for i in range(len(xtr)):\n",
    "        paths = path_generator(5,network,5)\n",
    "        e = explore(paths,xtr[i],pre_net_weight,network,5,ytr[i])\n",
    "        backtrack(network,5,e,paths, r = 1)"
   ]
  },
  {
   "cell_type": "code",
   "execution_count": null,
   "id": "36bee3eb",
   "metadata": {},
   "outputs": [],
   "source": []
  },
  {
   "cell_type": "code",
   "execution_count": null,
   "id": "aeb7c5ae",
   "metadata": {},
   "outputs": [],
   "source": []
  },
  {
   "cell_type": "code",
   "execution_count": null,
   "id": "0053d13b",
   "metadata": {},
   "outputs": [],
   "source": []
  },
  {
   "cell_type": "code",
   "execution_count": null,
   "id": "34ad407c",
   "metadata": {},
   "outputs": [],
   "source": []
  },
  {
   "cell_type": "code",
   "execution_count": null,
   "id": "672b45cc",
   "metadata": {},
   "outputs": [],
   "source": []
  },
  {
   "cell_type": "code",
   "execution_count": null,
   "id": "026ddc98",
   "metadata": {},
   "outputs": [],
   "source": []
  },
  {
   "cell_type": "code",
   "execution_count": null,
   "id": "850eb3c0",
   "metadata": {},
   "outputs": [],
   "source": []
  },
  {
   "cell_type": "code",
   "execution_count": null,
   "id": "15501f20",
   "metadata": {},
   "outputs": [],
   "source": []
  },
  {
   "cell_type": "code",
   "execution_count": null,
   "id": "c4edae76",
   "metadata": {},
   "outputs": [],
   "source": []
  }
 ],
 "metadata": {
  "kernelspec": {
   "display_name": "Python 3 (ipykernel)",
   "language": "python",
   "name": "python3"
  },
  "language_info": {
   "codemirror_mode": {
    "name": "ipython",
    "version": 3
   },
   "file_extension": ".py",
   "mimetype": "text/x-python",
   "name": "python",
   "nbconvert_exporter": "python",
   "pygments_lexer": "ipython3",
   "version": "3.9.7"
  }
 },
 "nbformat": 4,
 "nbformat_minor": 5
}
