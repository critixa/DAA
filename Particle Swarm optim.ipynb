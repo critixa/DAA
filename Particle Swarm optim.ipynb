{
 "cells": [
  {
   "cell_type": "code",
   "execution_count": 81,
   "id": "8511a05b",
   "metadata": {},
   "outputs": [],
   "source": [
    "import pandas as pd\n",
    "import numpy as np\n",
    "import matplotlib.pyplot as plt\n",
    "import seaborn as sns"
   ]
  },
  {
   "cell_type": "code",
   "execution_count": 85,
   "id": "a93aa586",
   "metadata": {},
   "outputs": [],
   "source": [
    "df = pd.read_csv(\"C:/Users/anies/Downloads/Bank_Personal_Loan_Modelling.csv\")"
   ]
  },
  {
   "cell_type": "code",
   "execution_count": 86,
   "id": "272ab853",
   "metadata": {},
   "outputs": [],
   "source": [
    "df.drop(['ID'],inplace=True,axis=1)"
   ]
  },
  {
   "cell_type": "code",
   "execution_count": 87,
   "id": "e3969038",
   "metadata": {},
   "outputs": [],
   "source": [
    "df['Age'] = pd.cut(df['Age'],bins=[23,30,45,67],labels=['Young','Adult','Old'])"
   ]
  },
  {
   "cell_type": "code",
   "execution_count": 88,
   "id": "6d310653",
   "metadata": {},
   "outputs": [],
   "source": [
    "from sklearn.preprocessing import LabelEncoder\n",
    "le = LabelEncoder()\n",
    "df['Age'] = le.fit_transform(df['Age'])"
   ]
  },
  {
   "cell_type": "code",
   "execution_count": 89,
   "id": "2dc88e93",
   "metadata": {},
   "outputs": [],
   "source": [
    "col = ['Age', 'Experience', 'Income', 'ZIP Code', 'Family', 'CCAvg', 'Education', \n",
    "       'Mortgage', 'Securities Account','CD Account', 'Online', 'CreditCard', 'Personal Loan']"
   ]
  },
  {
   "cell_type": "code",
   "execution_count": 90,
   "id": "ae999d34",
   "metadata": {},
   "outputs": [],
   "source": [
    "x = df.iloc[:,:-1].values\n",
    "y = df.iloc[:,-1].values"
   ]
  },
  {
   "cell_type": "code",
   "execution_count": 91,
   "id": "64b1dfd3",
   "metadata": {},
   "outputs": [],
   "source": [
    "from sklearn.model_selection import train_test_split\n",
    "x_train, x_test, y_train, y_test = train_test_split(x,y,test_size=0.25)"
   ]
  },
  {
   "cell_type": "code",
   "execution_count": 94,
   "id": "bdea09d5",
   "metadata": {},
   "outputs": [],
   "source": [
    "from keras.models import Sequential\n",
    "from keras.layers import Dense\n",
    "\n",
    "keras = Sequential()\n",
    "keras.add(Dense(12,input_dim=12,activation='relu'))\n",
    "keras.add(Dense(8,activation='relu'))\n",
    "keras.add(Dense(6,activation='relu'))"
   ]
  },
  {
   "cell_type": "code",
   "execution_count": 96,
   "id": "37e8d1be",
   "metadata": {},
   "outputs": [],
   "source": [
    "keras.add(Dense(1,activation='sigmoid'))"
   ]
  },
  {
   "cell_type": "code",
   "execution_count": 98,
   "id": "373de98a",
   "metadata": {},
   "outputs": [],
   "source": [
    "keras.compile(optimizer='adam',loss='binary_crossentropy',metrics=['accuracy'])"
   ]
  },
  {
   "cell_type": "code",
   "execution_count": 99,
   "id": "14676247",
   "metadata": {},
   "outputs": [
    {
     "name": "stdout",
     "output_type": "stream",
     "text": [
      "Epoch 1/20\n",
      "150/150 [==============================] - 3s 3ms/step - loss: 0.6169 - accuracy: 0.7112\n",
      "Epoch 2/20\n",
      "150/150 [==============================] - 0s 3ms/step - loss: 0.6071 - accuracy: 0.7112\n",
      "Epoch 3/20\n",
      "150/150 [==============================] - 0s 3ms/step - loss: 0.6032 - accuracy: 0.7112\n",
      "Epoch 4/20\n",
      "150/150 [==============================] - 0s 3ms/step - loss: 0.6018 - accuracy: 0.7112\n",
      "Epoch 5/20\n",
      "150/150 [==============================] - 1s 4ms/step - loss: 0.6013 - accuracy: 0.7112\n",
      "Epoch 6/20\n",
      "150/150 [==============================] - 1s 5ms/step - loss: 0.6012 - accuracy: 0.7112\n",
      "Epoch 7/20\n",
      "150/150 [==============================] - 1s 5ms/step - loss: 0.6012 - accuracy: 0.7112\n",
      "Epoch 8/20\n",
      "150/150 [==============================] - 1s 5ms/step - loss: 0.6011 - accuracy: 0.7112\n",
      "Epoch 9/20\n",
      "150/150 [==============================] - 1s 5ms/step - loss: 0.6012 - accuracy: 0.7112\n",
      "Epoch 10/20\n",
      "150/150 [==============================] - 1s 5ms/step - loss: 0.6011 - accuracy: 0.7112\n",
      "Epoch 11/20\n",
      "150/150 [==============================] - 1s 5ms/step - loss: 0.6011 - accuracy: 0.7112\n",
      "Epoch 12/20\n",
      "150/150 [==============================] - 1s 5ms/step - loss: 0.6012 - accuracy: 0.7112\n",
      "Epoch 13/20\n",
      "150/150 [==============================] - 1s 4ms/step - loss: 0.6012 - accuracy: 0.7112\n",
      "Epoch 14/20\n",
      "150/150 [==============================] - 1s 5ms/step - loss: 0.6011 - accuracy: 0.7112\n",
      "Epoch 15/20\n",
      "150/150 [==============================] - 1s 5ms/step - loss: 0.6011 - accuracy: 0.7112\n",
      "Epoch 16/20\n",
      "150/150 [==============================] - 1s 5ms/step - loss: 0.6011 - accuracy: 0.7112\n",
      "Epoch 17/20\n",
      "150/150 [==============================] - 1s 5ms/step - loss: 0.6012 - accuracy: 0.7112\n",
      "Epoch 18/20\n",
      "150/150 [==============================] - 1s 5ms/step - loss: 0.6012 - accuracy: 0.7112\n",
      "Epoch 19/20\n",
      "150/150 [==============================] - 1s 5ms/step - loss: 0.6011 - accuracy: 0.7112\n",
      "Epoch 20/20\n",
      "150/150 [==============================] - 1s 5ms/step - loss: 0.6012 - accuracy: 0.7112\n"
     ]
    },
    {
     "data": {
      "text/plain": [
       "<keras.callbacks.History at 0x2e043a1d8b0>"
      ]
     },
     "execution_count": 99,
     "metadata": {},
     "output_type": "execute_result"
    }
   ],
   "source": [
    "keras.fit(x_train,y_train,epochs=20,batch_size=25)"
   ]
  },
  {
   "cell_type": "code",
   "execution_count": 100,
   "id": "6cfbe4aa",
   "metadata": {},
   "outputs": [
    {
     "name": "stdout",
     "output_type": "stream",
     "text": [
      "118/118 [==============================] - 1s 3ms/step - loss: 0.6011 - accuracy: 0.7112\n",
      "71.11999988555908\n"
     ]
    }
   ],
   "source": [
    "_,acc = keras.evaluate(x_train,y_train)\n",
    "print(acc*100)"
   ]
  },
  {
   "cell_type": "code",
   "execution_count": 101,
   "id": "a4904af6",
   "metadata": {},
   "outputs": [
    {
     "name": "stdout",
     "output_type": "stream",
     "text": [
      "40/40 [==============================] - 0s 2ms/step\n"
     ]
    }
   ],
   "source": [
    "y_pred = keras.predict(x_test)\n",
    "y_pred = (y_pred>0.5)"
   ]
  },
  {
   "cell_type": "code",
   "execution_count": 102,
   "id": "f1c69fda",
   "metadata": {},
   "outputs": [
    {
     "data": {
      "text/plain": [
       "0.6904"
      ]
     },
     "execution_count": 102,
     "metadata": {},
     "output_type": "execute_result"
    }
   ],
   "source": [
    "from sklearn.metrics import accuracy_score\n",
    "accuracy_score(y_test,y_pred)"
   ]
  },
  {
   "cell_type": "code",
   "execution_count": 103,
   "id": "e6e6a42d",
   "metadata": {},
   "outputs": [],
   "source": [
    "from keras import backend as K\n",
    "def r_loss(y_test,y_pred):\n",
    "    res=K.sum(K.square(y_test-y_pred))    \n",
    "    total=K.sum(K.square(y_test-K.mean(y_test)))\n",
    "    return 1-(1-res/(total+K.epsilon()))"
   ]
  },
  {
   "cell_type": "code",
   "execution_count": 104,
   "id": "40152923",
   "metadata": {},
   "outputs": [],
   "source": [
    "X = df.iloc[:,:-1].values\n",
    "y = df.iloc[:,-1].values"
   ]
  },
  {
   "cell_type": "code",
   "execution_count": 105,
   "id": "c87e50f3",
   "metadata": {},
   "outputs": [
    {
     "data": {
      "text/plain": [
       "(5000, 12)"
      ]
     },
     "execution_count": 105,
     "metadata": {},
     "output_type": "execute_result"
    }
   ],
   "source": [
    "X.shape"
   ]
  },
  {
   "cell_type": "code",
   "execution_count": 106,
   "id": "11e94708",
   "metadata": {},
   "outputs": [],
   "source": [
    "def sigmoid(x):\n",
    "    return 1/(1+np.exp(-x))"
   ]
  },
  {
   "cell_type": "code",
   "execution_count": 107,
   "id": "82267208",
   "metadata": {},
   "outputs": [],
   "source": [
    "def cost_function(X, y, W):\n",
    "    y_hat = sigmoid(np.dot(X, W))\n",
    "    cost = -np.mean(y*np.log(y_hat) + (1-y)*np.log(1-y_hat))\n",
    "    return cost"
   ]
  },
  {
   "cell_type": "code",
   "execution_count": 125,
   "id": "c5f39217",
   "metadata": {},
   "outputs": [],
   "source": [
    "def pso(X, y, n_particles, n_iterations):\n",
    "    n_features = 12\n",
    "    lb = -1\n",
    "    ub = 1\n",
    "    swarm_size = (n_particles, n_features)\n",
    "    V = np.random.uniform(low=-1, high=1, size=swarm_size)\n",
    "    X = np.random.uniform(low=lb, high=ub, size=swarm_size)\n",
    "    P_best = X.copy()\n",
    "    P_best_fitness = np.zeros(n_particles)\n",
    "    for i in range(n_particles):\n",
    "        P_best_fitness[i] = cost_function(X[i], y, X[i])\n",
    "    G_best = X[np.argmin(P_best_fitness)].copy()\n",
    "    G_best_fitness = np.min(P_best_fitness)\n",
    "    for iteration in range(n_iterations):\n",
    "        w = 0.5\n",
    "        c1 = 0.8\n",
    "        c2 = 0.9\n",
    "        r1 = np.random.uniform(size=swarm_size)\n",
    "        r2 = np.random.uniform(size=swarm_size)\n",
    "        V = w*V + c1*r1*(P_best - X) + c2*r2*(G_best - X)\n",
    "        X = X + V\n",
    "        X[X < lb] = lb\n",
    "        X[X > ub] = ub\n",
    "        for i in range(n_particles):\n",
    "            fitness = cost_function(X[i], y, X[i])\n",
    "            if fitness < P_best_fitness[i]:\n",
    "                P_best[i] = X[i].copy()\n",
    "                P_best_fitness[i] = fitness\n",
    "        if np.min(P_best_fitness) < G_best_fitness:\n",
    "            G_best = X[np.argmin(P_best_fitness)].copy()\n",
    "            G_best_fitness = np.min(P_best_fitness)\n",
    "    return G_best"
   ]
  },
  {
   "cell_type": "code",
   "execution_count": 126,
   "id": "208f07a8",
   "metadata": {},
   "outputs": [],
   "source": [
    "X_train, X_test, y_train, y_test = train_test_split(X, y, test_size=0.2, random_state=42)\n",
    "X_train = (X_train - np.mean(X_train, axis=0))/np.std(X_train, axis=0)\n",
    "X_test = (X_test - np.mean(X_train, axis=0))/np.std(X_train, axis=0)\n",
    "n_input = 12\n",
    "n_hidden = 2\n",
    "n_output = 1"
   ]
  },
  {
   "cell_type": "code",
   "execution_count": 127,
   "id": "6cc85a61",
   "metadata": {},
   "outputs": [],
   "source": [
    "\n",
    "W1 = pso(X_train, y_train, n_particles=20, n_iterations=50)\n",
    "W2 = pso(sigmoid(np.dot(X_train, W1)), y_train, n_particles=20, n_iterations=50)\n",
    "W = [W1, W2]\n"
   ]
  },
  {
   "cell_type": "code",
   "execution_count": 129,
   "id": "3200a5ca",
   "metadata": {},
   "outputs": [
    {
     "data": {
      "text/plain": [
       "((4000, 12),\n",
       " array([-0.01322888,  0.00299523,  0.02417005, -0.01042317,  0.00046687,\n",
       "         0.0150289 , -0.0109756 ,  0.02387997, -0.05350616, -0.0136264 ,\n",
       "        -0.06431793, -0.00192305]),\n",
       " array([-0.00894096,  0.02994397, -0.05586617,  0.01218375, -0.01265208,\n",
       "         0.0397728 , -0.01048481, -0.0093918 , -0.00340826, -0.00142552,\n",
       "        -0.11931609, -0.01469532]))"
      ]
     },
     "execution_count": 129,
     "metadata": {},
     "output_type": "execute_result"
    }
   ],
   "source": [
    "X_train.shape,W[0],W[1]\n"
   ]
  },
  {
   "cell_type": "code",
   "execution_count": 130,
   "id": "51ac8fb1",
   "metadata": {},
   "outputs": [
    {
     "data": {
      "text/plain": [
       "array([[0.24729109, 0.24298409, 0.69122923, 0.21324632, 0.23031344,\n",
       "        0.74427953, 0.25953973, 0.36531917, 0.42027764, 0.94748412,\n",
       "        0.43717244, 0.22743823],\n",
       "       [0.24729109, 0.35144422, 0.46793384, 0.36628912, 0.6317787 ,\n",
       "        0.52411117, 0.25953973, 0.36531917, 0.42027764, 0.94748412,\n",
       "        0.43717244, 0.6937634 ],\n",
       "       [0.24729109, 0.24298409, 0.89595081, 0.27686039, 0.23031344,\n",
       "        0.91100523, 0.25953973, 0.36531917, 0.42027764, 0.41442592,\n",
       "        0.43717244, 0.6937634 ],\n",
       "       [0.59254796, 0.60699199, 0.22884372, 0.49377613, 0.23031344,\n",
       "        0.2941542 , 0.79154758, 0.36531917, 0.42027764, 0.41442592,\n",
       "        0.43717244, 0.6937634 ]])"
      ]
     },
     "execution_count": 130,
     "metadata": {},
     "output_type": "execute_result"
    }
   ],
   "source": [
    "W[0]=W[0].reshape(12,1)\n",
    "W[1]=W[1].reshape(12,1)\n",
    "y_pred = sigmoid(X_train)\n",
    "y_pred[:4]"
   ]
  },
  {
   "cell_type": "code",
   "execution_count": 131,
   "id": "f3e2c53c",
   "metadata": {},
   "outputs": [
    {
     "data": {
      "text/plain": [
       "array([1, 1, 0, 0], dtype=int64)"
      ]
     },
     "execution_count": 131,
     "metadata": {},
     "output_type": "execute_result"
    }
   ],
   "source": [
    "y_test[:4]"
   ]
  },
  {
   "cell_type": "code",
   "execution_count": null,
   "id": "323a8f70",
   "metadata": {},
   "outputs": [],
   "source": []
  }
 ],
 "metadata": {
  "kernelspec": {
   "display_name": "Python 3 (ipykernel)",
   "language": "python",
   "name": "python3"
  },
  "language_info": {
   "codemirror_mode": {
    "name": "ipython",
    "version": 3
   },
   "file_extension": ".py",
   "mimetype": "text/x-python",
   "name": "python",
   "nbconvert_exporter": "python",
   "pygments_lexer": "ipython3",
   "version": "3.9.7"
  }
 },
 "nbformat": 4,
 "nbformat_minor": 5
}
