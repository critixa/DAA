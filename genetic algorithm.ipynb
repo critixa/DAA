{
 "cells": [
  {
   "cell_type": "code",
   "execution_count": 1,
   "id": "99f3f827",
   "metadata": {},
   "outputs": [
    {
     "data": {
      "text/html": [
       "<div>\n",
       "<style scoped>\n",
       "    .dataframe tbody tr th:only-of-type {\n",
       "        vertical-align: middle;\n",
       "    }\n",
       "\n",
       "    .dataframe tbody tr th {\n",
       "        vertical-align: top;\n",
       "    }\n",
       "\n",
       "    .dataframe thead th {\n",
       "        text-align: right;\n",
       "    }\n",
       "</style>\n",
       "<table border=\"1\" class=\"dataframe\">\n",
       "  <thead>\n",
       "    <tr style=\"text-align: right;\">\n",
       "      <th></th>\n",
       "      <th>ID</th>\n",
       "      <th>Age</th>\n",
       "      <th>Experience</th>\n",
       "      <th>Income</th>\n",
       "      <th>ZIP Code</th>\n",
       "      <th>Family</th>\n",
       "      <th>CCAvg</th>\n",
       "      <th>Education</th>\n",
       "      <th>Mortgage</th>\n",
       "      <th>Personal Loan</th>\n",
       "      <th>Securities Account</th>\n",
       "      <th>CD Account</th>\n",
       "      <th>Online</th>\n",
       "      <th>CreditCard</th>\n",
       "    </tr>\n",
       "  </thead>\n",
       "  <tbody>\n",
       "    <tr>\n",
       "      <th>0</th>\n",
       "      <td>1</td>\n",
       "      <td>25</td>\n",
       "      <td>1</td>\n",
       "      <td>49</td>\n",
       "      <td>91107</td>\n",
       "      <td>4</td>\n",
       "      <td>1.6</td>\n",
       "      <td>1</td>\n",
       "      <td>0</td>\n",
       "      <td>0</td>\n",
       "      <td>1</td>\n",
       "      <td>0</td>\n",
       "      <td>0</td>\n",
       "      <td>0</td>\n",
       "    </tr>\n",
       "    <tr>\n",
       "      <th>1</th>\n",
       "      <td>2</td>\n",
       "      <td>45</td>\n",
       "      <td>19</td>\n",
       "      <td>34</td>\n",
       "      <td>90089</td>\n",
       "      <td>3</td>\n",
       "      <td>1.5</td>\n",
       "      <td>1</td>\n",
       "      <td>0</td>\n",
       "      <td>0</td>\n",
       "      <td>1</td>\n",
       "      <td>0</td>\n",
       "      <td>0</td>\n",
       "      <td>0</td>\n",
       "    </tr>\n",
       "    <tr>\n",
       "      <th>2</th>\n",
       "      <td>3</td>\n",
       "      <td>39</td>\n",
       "      <td>15</td>\n",
       "      <td>11</td>\n",
       "      <td>94720</td>\n",
       "      <td>1</td>\n",
       "      <td>1.0</td>\n",
       "      <td>1</td>\n",
       "      <td>0</td>\n",
       "      <td>0</td>\n",
       "      <td>0</td>\n",
       "      <td>0</td>\n",
       "      <td>0</td>\n",
       "      <td>0</td>\n",
       "    </tr>\n",
       "    <tr>\n",
       "      <th>3</th>\n",
       "      <td>4</td>\n",
       "      <td>35</td>\n",
       "      <td>9</td>\n",
       "      <td>100</td>\n",
       "      <td>94112</td>\n",
       "      <td>1</td>\n",
       "      <td>2.7</td>\n",
       "      <td>2</td>\n",
       "      <td>0</td>\n",
       "      <td>0</td>\n",
       "      <td>0</td>\n",
       "      <td>0</td>\n",
       "      <td>0</td>\n",
       "      <td>0</td>\n",
       "    </tr>\n",
       "    <tr>\n",
       "      <th>4</th>\n",
       "      <td>5</td>\n",
       "      <td>35</td>\n",
       "      <td>8</td>\n",
       "      <td>45</td>\n",
       "      <td>91330</td>\n",
       "      <td>4</td>\n",
       "      <td>1.0</td>\n",
       "      <td>2</td>\n",
       "      <td>0</td>\n",
       "      <td>0</td>\n",
       "      <td>0</td>\n",
       "      <td>0</td>\n",
       "      <td>0</td>\n",
       "      <td>1</td>\n",
       "    </tr>\n",
       "  </tbody>\n",
       "</table>\n",
       "</div>"
      ],
      "text/plain": [
       "   ID  Age  Experience  Income  ZIP Code  Family  CCAvg  Education  Mortgage  \\\n",
       "0   1   25           1      49     91107       4    1.6          1         0   \n",
       "1   2   45          19      34     90089       3    1.5          1         0   \n",
       "2   3   39          15      11     94720       1    1.0          1         0   \n",
       "3   4   35           9     100     94112       1    2.7          2         0   \n",
       "4   5   35           8      45     91330       4    1.0          2         0   \n",
       "\n",
       "   Personal Loan  Securities Account  CD Account  Online  CreditCard  \n",
       "0              0                   1           0       0           0  \n",
       "1              0                   1           0       0           0  \n",
       "2              0                   0           0       0           0  \n",
       "3              0                   0           0       0           0  \n",
       "4              0                   0           0       0           1  "
      ]
     },
     "execution_count": 1,
     "metadata": {},
     "output_type": "execute_result"
    }
   ],
   "source": [
    "import pandas as pd\n",
    "import numpy as np\n",
    "data = pd.read_csv(\"C:/Users/anies/Downloads/Bank_Personal_Loan_Modelling.csv\")\n",
    "\n",
    "data.head()"
   ]
  },
  {
   "cell_type": "code",
   "execution_count": 2,
   "id": "61f5000f",
   "metadata": {},
   "outputs": [],
   "source": [
    "data = data.drop(columns = [\"ID\",\"ZIP Code\"])\n",
    "X = data.drop(\"Personal Loan\",axis=1)\n"
   ]
  },
  {
   "cell_type": "code",
   "execution_count": 3,
   "id": "d6069a88",
   "metadata": {},
   "outputs": [],
   "source": [
    "y = data[\"Personal Loan\"]\n",
    "from sklearn.model_selection import train_test_split\n",
    "from sklearn.preprocessing import StandardScaler\n",
    "\n",
    "sc = StandardScaler()"
   ]
  },
  {
   "cell_type": "code",
   "execution_count": 4,
   "id": "db49df2d",
   "metadata": {},
   "outputs": [],
   "source": [
    "\n",
    "\n",
    "X_train,X_test,y_train,y_test = train_test_split(X,y,test_size=0.3,random_state=0)\n",
    "X_train = sc.fit_transform(X_train)\n",
    "X_test = sc.transform(X_test)"
   ]
  },
  {
   "cell_type": "code",
   "execution_count": 5,
   "id": "754989d2",
   "metadata": {},
   "outputs": [
    {
     "name": "stderr",
     "output_type": "stream",
     "text": [
      "C:\\Users\\anies\\anaconda3\\lib\\site-packages\\keras\\optimizers\\legacy\\adam.py:117: UserWarning: The `lr` argument is deprecated, use `learning_rate` instead.\n",
      "  super().__init__(name, **kwargs)\n"
     ]
    }
   ],
   "source": [
    "\n",
    "import keras\n",
    "from keras.models import Sequential\n",
    "from keras.layers import Dense\n",
    "\n",
    "from keras.optimizers import Adam\n",
    "\n",
    "optimizer = Adam(lr=0.01)\n",
    "loss = 'binary_crossentropy'"
   ]
  },
  {
   "cell_type": "code",
   "execution_count": 6,
   "id": "ff358eef",
   "metadata": {},
   "outputs": [],
   "source": [
    "def fitness(weights):\n",
    "    w0 = weights[:66].reshape((11, 6))\n",
    "    w1 = weights[66:72].reshape((6,1))\n",
    "    b0= np.array([0.,0.,0.,0.,0.,0.])\n",
    "    b1 = np.array([0.])\n",
    "\n",
    "\n",
    "    model.layers[0].set_weights([w0, b0])\n",
    "    model.layers[1].set_weights([w1, b1])\n",
    "    model.compile(optimizer=optimizer, loss=loss)\n",
    "    Loss = model.evaluate(X_train, y_train, verbose=0)\n",
    "    return -Loss"
   ]
  },
  {
   "cell_type": "code",
   "execution_count": 7,
   "id": "817b80cd",
   "metadata": {},
   "outputs": [],
   "source": [
    "def genetic_algorithm(population_size, generations, mutation_rate):\n",
    "\n",
    "    population = [np.random.uniform(low=-1, high=1, size=77) for _ in range(population_size)]\n",
    "    \n",
    "    for generation in range(generations):\n",
    "        fitness_scores = [fitness(x) for x in population]\n",
    "\n",
    "        indices = np.argsort(fitness_scores)[-2:]\n",
    "        parents = [population[i] for i in indices]\n",
    "\n",
    "        offspring = []\n",
    "        for _ in range(population_size - len(parents)):\n",
    "            parent1 = parents[0].flatten()\n",
    "            parent2 = parents[1].flatten()\n",
    "\n",
    "            crossover_point = np.random.randint(0, len(parent1))\n",
    "            child = np.concatenate([parent1[:crossover_point], parent2[crossover_point:]])\n",
    "            child = child.reshape(parents[0].shape)\n",
    "\n",
    "            for i in range(len(child)):\n",
    "                if np.random.uniform() < mutation_rate:\n",
    "                    child[i] += np.random.normal(loc=0, scale=0.1)\n",
    "\n",
    "            offspring.append(child)\n",
    "\n",
    "        population = parents + offspring\n",
    "        \n",
    "        if (generation%5==0):\n",
    "            print(\"Finished Generation:\",generation)\n",
    "\n",
    "    fitness_scores = [fitness(x) for x in population]\n",
    "    best_index = np.argmax(fitness_scores)\n",
    "    best_weights = population[best_index]\n",
    "\n",
    "    return best_weights"
   ]
  },
  {
   "cell_type": "code",
   "execution_count": 8,
   "id": "ecadc381",
   "metadata": {},
   "outputs": [
    {
     "data": {
      "text/plain": [
       "[<tf.Variable 'dense/kernel:0' shape=(11, 6) dtype=float32, numpy=\n",
       " array([[-0.4389543 ,  0.57338405, -0.14651254,  0.19232213, -0.4666832 ,\n",
       "          0.29054093],\n",
       "        [ 0.49394143,  0.49870372, -0.39886373, -0.5399896 ,  0.52930796,\n",
       "         -0.4744595 ],\n",
       "        [ 0.5935787 ,  0.4724859 , -0.3012084 , -0.35549062,  0.12195611,\n",
       "          0.3958506 ],\n",
       "        [ 0.18018997,  0.4048519 ,  0.3530333 , -0.59275883, -0.13992122,\n",
       "         -0.12276885],\n",
       "        [ 0.556551  ,  0.46395934,  0.30569535, -0.04689008, -0.11823601,\n",
       "          0.21897078],\n",
       "        [ 0.58351827,  0.59052885,  0.23687273,  0.11033964, -0.47696117,\n",
       "          0.52959096],\n",
       "        [-0.31725612,  0.5834806 , -0.39892492,  0.373026  , -0.02793843,\n",
       "          0.2505433 ],\n",
       "        [-0.49324033, -0.2910347 , -0.21713948, -0.04087681, -0.20238835,\n",
       "         -0.51177037],\n",
       "        [ 0.01818186, -0.3107328 ,  0.5659548 , -0.4849775 , -0.02247447,\n",
       "          0.06060284],\n",
       "        [ 0.2086097 , -0.24125698, -0.1461995 ,  0.32997388, -0.5576348 ,\n",
       "          0.51780415],\n",
       "        [-0.582038  , -0.418626  , -0.01371676, -0.2920354 , -0.26078823,\n",
       "          0.19707143]], dtype=float32)>,\n",
       " <tf.Variable 'dense/bias:0' shape=(6,) dtype=float32, numpy=array([0., 0., 0., 0., 0., 0.], dtype=float32)>,\n",
       " <tf.Variable 'dense_1/kernel:0' shape=(6, 1) dtype=float32, numpy=\n",
       " array([[-0.5870901 ],\n",
       "        [-0.4620066 ],\n",
       "        [-0.38891274],\n",
       "        [-0.22646868],\n",
       "        [-0.53262496],\n",
       "        [-0.16419357]], dtype=float32)>,\n",
       " <tf.Variable 'dense_1/bias:0' shape=(1,) dtype=float32, numpy=array([0.], dtype=float32)>]"
      ]
     },
     "execution_count": 8,
     "metadata": {},
     "output_type": "execute_result"
    }
   ],
   "source": [
    "model = Sequential()\n",
    "model.add(Dense(units=6, activation='relu', input_dim=X_train.shape[1]))\n",
    "model.add(Dense(units=1, activation='sigmoid'))\n",
    "\n",
    "model.weights"
   ]
  },
  {
   "cell_type": "code",
   "execution_count": 9,
   "id": "23a932a9",
   "metadata": {
    "scrolled": true
   },
   "outputs": [
    {
     "name": "stdout",
     "output_type": "stream",
     "text": [
      "Finished Generation: 0\n",
      "Finished Generation: 5\n",
      "Finished Generation: 10\n",
      "Finished Generation: 15\n",
      "Finished Generation: 20\n",
      "Finished Generation: 25\n",
      "Finished Generation: 30\n",
      "Finished Generation: 35\n",
      "Finished Generation: 40\n",
      "Finished Generation: 45\n"
     ]
    }
   ],
   "source": [
    "best_weights = genetic_algorithm(population_size=20, generations=50, mutation_rate=0.1)\n",
    "w0 = best_weights[:66].reshape((11, 6))\n",
    "w1 = best_weights[66:72].reshape((6,1))\n",
    "b0= np.array([0.,0.,0.,0.,0.,0.])\n",
    "b1 = np.array([0.])\n",
    "\n",
    "model.layers[0].set_weights([w0, b0])\n",
    "model.layers[1].set_weights([w1, b1])\n",
    "\n",
    "model.compile(optimizer=optimizer, loss=loss)"
   ]
  },
  {
   "cell_type": "code",
   "execution_count": 10,
   "id": "15f4abc8",
   "metadata": {},
   "outputs": [
    {
     "name": "stdout",
     "output_type": "stream",
     "text": [
      "47/47 [==============================] - 0s 874us/step\n"
     ]
    }
   ],
   "source": [
    "y_pred = model.predict(X_test)\n",
    "y_pred = (y_pred < 0.00005)"
   ]
  },
  {
   "cell_type": "code",
   "execution_count": 11,
   "id": "98d2013f",
   "metadata": {},
   "outputs": [
    {
     "data": {
      "text/plain": [
       "0.914"
      ]
     },
     "execution_count": 11,
     "metadata": {},
     "output_type": "execute_result"
    }
   ],
   "source": [
    "from sklearn.metrics import accuracy_score\n",
    "accuracy_score(y_test,y_pred)"
   ]
  },
  {
   "cell_type": "code",
   "execution_count": null,
   "id": "fef87cab",
   "metadata": {},
   "outputs": [],
   "source": []
  },
  {
   "cell_type": "code",
   "execution_count": null,
   "id": "b3064d03",
   "metadata": {},
   "outputs": [],
   "source": []
  },
  {
   "cell_type": "code",
   "execution_count": null,
   "id": "e392a53d",
   "metadata": {},
   "outputs": [],
   "source": []
  },
  {
   "cell_type": "code",
   "execution_count": null,
   "id": "21a91b2a",
   "metadata": {},
   "outputs": [],
   "source": []
  }
 ],
 "metadata": {
  "kernelspec": {
   "display_name": "Python 3 (ipykernel)",
   "language": "python",
   "name": "python3"
  },
  "language_info": {
   "codemirror_mode": {
    "name": "ipython",
    "version": 3
   },
   "file_extension": ".py",
   "mimetype": "text/x-python",
   "name": "python",
   "nbconvert_exporter": "python",
   "pygments_lexer": "ipython3",
   "version": "3.9.7"
  }
 },
 "nbformat": 4,
 "nbformat_minor": 5
}
